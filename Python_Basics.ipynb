{
  "nbformat": 4,
  "nbformat_minor": 0,
  "metadata": {
    "colab": {
      "provenance": []
    },
    "kernelspec": {
      "name": "python3",
      "display_name": "Python 3"
    },
    "language_info": {
      "name": "python"
    }
  },
  "cells": [
    {
      "cell_type": "markdown",
      "source": [
        "#Python Basics"
      ],
      "metadata": {
        "id": "7Q3BjdjocdgW"
      }
    },
    {
      "cell_type": "markdown",
      "source": [
        "1. What is Python, and why is it popular ?\n",
        "  - Python is a programming language that's simple to read and write.It's popular because it's flexible, has tons of libraries for things like data analysis and web development, and is widely used by companies.\n",
        "\n",
        "  "
      ],
      "metadata": {
        "id": "1VXN9AaicgRV"
      }
    },
    {
      "cell_type": "markdown",
      "source": [
        "2. What is an interpreter in Python ?\n",
        "  - An interpreter in Python is a program that reads and runs Python code line by line. This makes it easier to test and debug code quickly."
      ],
      "metadata": {
        "id": "Pma_xqWWeVjr"
      }
    },
    {
      "cell_type": "markdown",
      "source": [
        "3. What are pre-defined keywords in Python ?\n",
        "  - Pre-defined keywords in Python are reserved words that have special meaning and purpose in the language. They are used to define the syntax\n",
        "\n",
        "  Ex: False, None, True, and, as, for, break, class\n"
      ],
      "metadata": {
        "id": "haIc9gdjfqZh"
      }
    },
    {
      "cell_type": "markdown",
      "source": [
        "4. Can keywords be used as variable names ?\n",
        "  - No, keywords cannot be used as variable names in Python. They are reserved words that define the language's syntax."
      ],
      "metadata": {
        "id": "WFRs91Tggh1D"
      }
    },
    {
      "cell_type": "markdown",
      "source": [
        "5. What is mutability in Python ?\n",
        "  - Mutability in Python refers to whether or not an object’s value can be changed after it’s created.\n",
        "\n",
        "    Ex: list, dict, set."
      ],
      "metadata": {
        "id": "IDpM9U8QhaIO"
      }
    },
    {
      "cell_type": "markdown",
      "source": [
        "6. Why are lists mutable, but tuples are immutable ?\n",
        "  - Lists are mutable because they are designed to store dynamic data—allowing you to add, remove, or change elements after creation.\n",
        "\n",
        "  - Tuples are immutable by design to ensure data integrity. They're used when you want to store fixed data that shouldn't be altered."
      ],
      "metadata": {
        "id": "I36EInToh0SJ"
      }
    },
    {
      "cell_type": "markdown",
      "source": [
        "7. What is the difference between “==” and “is” operators in Python ?\n",
        "  - \"==\" checks if the values of two objects are equal.\n",
        "\n",
        "  - \"is\" checks if two variables point to the exact same object in memory."
      ],
      "metadata": {
        "id": "9loW_6huilgh"
      }
    },
    {
      "cell_type": "markdown",
      "source": [
        "8. What are logical operators in Python ?\n",
        "  - Logical operators are used to combine conditional statements and return a Boolean result (True or False).\n",
        "  \n",
        "      logical operators in Python are: and, or, not"
      ],
      "metadata": {
        "id": "I9X8POYWjLGj"
      }
    },
    {
      "cell_type": "markdown",
      "source": [
        "9. What is type casting in Python ?\n",
        "  - Type casting is the process of converting a variable from one data type to another.like turning a string into a number or a number into a string."
      ],
      "metadata": {
        "id": "b7H7Es0PjsQi"
      }
    },
    {
      "cell_type": "markdown",
      "source": [
        "10. What is the difference between implicit and explicit type casting ?\n",
        "  - Implicit type casting happens automatically when Python converts one data type to another without we having to write extra code. For example, when we add an integer and a float, Python converts the integer to float automatically.\n",
        "\n",
        "    - Explicit type casting is when we manually convert a value from one type to another using function"
      ],
      "metadata": {
        "id": "ooaWD2aWkLaB"
      }
    },
    {
      "cell_type": "markdown",
      "source": [
        "11. What is the purpose of conditional statements in Python ?\n",
        "  - Conditional statements allows program to make decisions and execute code based on certain conditions. They help control the flow of the program by running specific blocks of code only when conditions are true or false.\n"
      ],
      "metadata": {
        "id": "mFxYAFqZk9Ts"
      }
    },
    {
      "cell_type": "markdown",
      "source": [
        "12. How does the elif statement work ?\n",
        "  - The elif statement stands for \"else if\" and is used to check multiple conditions one after another. It comes after an initial if statement. Python evaluates each condition in order, and once it finds a true condition, it runs that block."
      ],
      "metadata": {
        "id": "nMxuu5YVmCgr"
      }
    },
    {
      "cell_type": "markdown",
      "source": [
        "13. What is the difference between for and while loops ?\n",
        "  - for loop: Used when you know how many times you want to repeat something or when you’re iterating over a sequence\n",
        "\n",
        "    - while loop: Repeats as long as a condition is true. Use it when you don’t know exactly how many times the loop should run, but you have a condition to check."
      ],
      "metadata": {
        "id": "wEpyhOr3mdUO"
      }
    },
    {
      "cell_type": "markdown",
      "source": [
        "14. Describe a scenario where a while loop is more suitable than a for loop ?\n",
        "  - A while loop is better when you don’t know beforehand how many times you need to repeat something and the loop should continue until a certain condition changes."
      ],
      "metadata": {
        "id": "AX41XoSWm5lm"
      }
    },
    {
      "cell_type": "markdown",
      "source": [
        "#Practical Questions"
      ],
      "metadata": {
        "id": "HsNutJSw2uTc"
      }
    },
    {
      "cell_type": "code",
      "source": [
        "#1. Write a Python program to print \"Hello, World!\n",
        "\n",
        "print(\"Hello, World!\")"
      ],
      "metadata": {
        "colab": {
          "base_uri": "https://localhost:8080/"
        },
        "id": "2xc6xa4pn4sK",
        "outputId": "7bca0b0f-0fd4-4244-e876-aa1558589295"
      },
      "execution_count": 1,
      "outputs": [
        {
          "output_type": "stream",
          "name": "stdout",
          "text": [
            "Hello, World!\n"
          ]
        }
      ]
    },
    {
      "cell_type": "code",
      "source": [
        "#2. Write a Python program that displays your name and age\n",
        "\n",
        "name = \"Srihari\"\n",
        "age = 25\n",
        "\n",
        "print(name)\n",
        "print(age)"
      ],
      "metadata": {
        "colab": {
          "base_uri": "https://localhost:8080/"
        },
        "id": "lCmVedsmoBs7",
        "outputId": "9e03264a-20b6-4b35-a540-a426cf5bc385"
      },
      "execution_count": 2,
      "outputs": [
        {
          "output_type": "stream",
          "name": "stdout",
          "text": [
            "Srihari\n",
            "25\n"
          ]
        }
      ]
    },
    {
      "cell_type": "code",
      "source": [
        "#3. Write code to print all the pre-defined keywords in Python using the keyword library\n",
        "\n",
        "help(\"keywords\")"
      ],
      "metadata": {
        "colab": {
          "base_uri": "https://localhost:8080/"
        },
        "id": "GxQdAlv_odBj",
        "outputId": "247f0afc-3185-4821-aa05-7acd3df08086"
      },
      "execution_count": 3,
      "outputs": [
        {
          "output_type": "stream",
          "name": "stdout",
          "text": [
            "\n",
            "Here is a list of the Python keywords.  Enter any keyword to get more help.\n",
            "\n",
            "False               class               from                or\n",
            "None                continue            global              pass\n",
            "True                def                 if                  raise\n",
            "and                 del                 import              return\n",
            "as                  elif                in                  try\n",
            "assert              else                is                  while\n",
            "async               except              lambda              with\n",
            "await               finally             nonlocal            yield\n",
            "break               for                 not                 \n",
            "\n"
          ]
        }
      ]
    },
    {
      "cell_type": "code",
      "source": [
        "#4. Write a program that checks if a given word is a Python keyword.\n",
        "\n",
        "word = input()\n",
        "if word in keyword.kwlist:\n",
        "  print(f\"'{word}' is a Python keyword.\")\n",
        "else:\n",
        "  print(f\"'{word}' is not a Python keyword.\")"
      ],
      "metadata": {
        "colab": {
          "base_uri": "https://localhost:8080/"
        },
        "id": "sBdhdTTkpBt9",
        "outputId": "09cf0769-2c61-468e-b798-1c76d3f9a5fa"
      },
      "execution_count": 6,
      "outputs": [
        {
          "output_type": "stream",
          "name": "stdout",
          "text": [
            "and\n",
            "'and' is a Python keyword.\n"
          ]
        }
      ]
    },
    {
      "cell_type": "code",
      "source": [
        "#5. Create a list and tuple in Python, and demonstrate how attempting to change an element works differently for each.\n",
        "\n",
        "'''\n",
        "Lists are mutable, so you can change their elements.\n",
        "\n",
        "Tuples are immutable, so trying to change an element raises a TypeError.\n",
        "\n",
        "'''\n",
        "\n",
        "\n",
        "my_list = [1, 2, 3]\n",
        "my_tuple = (1, 2, 3)\n",
        "\n",
        "my_list[0] = 10\n",
        "my_tuple[0] = 10\n",
        "\n",
        "print(my_list)\n",
        "print(my_tuple)\n",
        "\n"
      ],
      "metadata": {
        "colab": {
          "base_uri": "https://localhost:8080/",
          "height": 211
        },
        "id": "QWr_GI2PqANE",
        "outputId": "d62187b7-0895-41a3-ff1d-3582e23448b6"
      },
      "execution_count": 31,
      "outputs": [
        {
          "output_type": "error",
          "ename": "TypeError",
          "evalue": "'tuple' object does not support item assignment",
          "traceback": [
            "\u001b[0;31m---------------------------------------------------------------------------\u001b[0m",
            "\u001b[0;31mTypeError\u001b[0m                                 Traceback (most recent call last)",
            "\u001b[0;32m<ipython-input-31-205be40dfaae>\u001b[0m in \u001b[0;36m<cell line: 0>\u001b[0;34m()\u001b[0m\n\u001b[1;32m     13\u001b[0m \u001b[0;34m\u001b[0m\u001b[0m\n\u001b[1;32m     14\u001b[0m \u001b[0mmy_list\u001b[0m\u001b[0;34m[\u001b[0m\u001b[0;36m0\u001b[0m\u001b[0;34m]\u001b[0m \u001b[0;34m=\u001b[0m \u001b[0;36m10\u001b[0m\u001b[0;34m\u001b[0m\u001b[0;34m\u001b[0m\u001b[0m\n\u001b[0;32m---> 15\u001b[0;31m \u001b[0mmy_tuple\u001b[0m\u001b[0;34m[\u001b[0m\u001b[0;36m0\u001b[0m\u001b[0;34m]\u001b[0m \u001b[0;34m=\u001b[0m \u001b[0;36m10\u001b[0m\u001b[0;34m\u001b[0m\u001b[0;34m\u001b[0m\u001b[0m\n\u001b[0m\u001b[1;32m     16\u001b[0m \u001b[0;34m\u001b[0m\u001b[0m\n\u001b[1;32m     17\u001b[0m \u001b[0mprint\u001b[0m\u001b[0;34m(\u001b[0m\u001b[0mmy_list\u001b[0m\u001b[0;34m)\u001b[0m\u001b[0;34m\u001b[0m\u001b[0;34m\u001b[0m\u001b[0m\n",
            "\u001b[0;31mTypeError\u001b[0m: 'tuple' object does not support item assignment"
          ]
        }
      ]
    },
    {
      "cell_type": "code",
      "source": [
        "#6. Write a function to demonstrate the behavior of mutable and immutable arguments.\n",
        "\n",
        "'''\n",
        "x is an integer (immutable), so changes inside the function don’t affect the original value.\n",
        "\n",
        "lst is a list (mutable), so changes made inside the function are reflected outside.\n",
        "\n",
        "'''\n",
        "\n",
        "\n",
        "def change_data(a, b):\n",
        "    a = a + 1\n",
        "    b.append(4)\n",
        "\n",
        "x = 10\n",
        "y = [1, 2, 3]\n",
        "\n",
        "change_data(x, y)\n",
        "\n",
        "print(x)\n",
        "print(y)\n",
        "\n"
      ],
      "metadata": {
        "colab": {
          "base_uri": "https://localhost:8080/"
        },
        "id": "Nhw3PPFvrYtL",
        "outputId": "1ce674ac-89ce-4f21-d55e-ea580e58095c"
      },
      "execution_count": 14,
      "outputs": [
        {
          "output_type": "stream",
          "name": "stdout",
          "text": [
            "10\n",
            "[1, 2, 3, 4]\n"
          ]
        }
      ]
    },
    {
      "cell_type": "code",
      "source": [
        "#7. Write a program that performs basic arithmetic operations on two user-input numbers.\n",
        "\n",
        "\n",
        "a = int(input(\"Enter first number: \"))\n",
        "b = int(input(\"Enter second number: \"))\n",
        "\n",
        "print(\"Addition:\", a + b)\n",
        "print(\"Subtraction:\", a - b)\n",
        "print(\"Multiplication:\", a * b)\n",
        "print(\"Division:\", a / b)\n"
      ],
      "metadata": {
        "colab": {
          "base_uri": "https://localhost:8080/"
        },
        "id": "4OBOQ5yqtLaN",
        "outputId": "9fa02aa4-c904-4f1e-fde0-43bc03340762"
      },
      "execution_count": 9,
      "outputs": [
        {
          "output_type": "stream",
          "name": "stdout",
          "text": [
            "Enter first number: 4\n",
            "Enter second number: 5\n",
            "Addition: 9\n",
            "Subtraction: -1\n",
            "Multiplication: 20\n",
            "Division: 0.8\n"
          ]
        }
      ]
    },
    {
      "cell_type": "code",
      "source": [
        "#8. Write a program to demonstrate the use of logical operators.\n",
        "\n",
        "'''\n",
        "If both numbers are positive (and)\n",
        "\n",
        "If at least one is positive (or)\n",
        "\n",
        "If neither is negative (not)\n",
        "\n",
        "'''\n",
        "\n",
        "a = int(input(\"Enter first number: \"))\n",
        "b = int(input(\"Enter second number: \"))\n",
        "\n",
        "# AND\n",
        "if a > 0 and b > 0:\n",
        "    print(\"Both numbers are positive.\")\n",
        "\n",
        "# OR\n",
        "if a > 0 or b > 0:\n",
        "    print(\"At least one number is positive.\")\n",
        "\n",
        "#NOT\n",
        "if not (a < 0 or b < 0):\n",
        "    print(\"Neither number is negative.\")\n",
        "else:\n",
        "    print(\"At least one number is negative.\")\n"
      ],
      "metadata": {
        "colab": {
          "base_uri": "https://localhost:8080/"
        },
        "id": "Te9fMzzpv6Lo",
        "outputId": "912518b2-4bd1-4716-8040-b6a0e630b316"
      },
      "execution_count": 15,
      "outputs": [
        {
          "output_type": "stream",
          "name": "stdout",
          "text": [
            "Enter first number: 5\n",
            "Enter second number: 5\n",
            "Both numbers are positive.\n",
            "At least one number is positive.\n",
            "Neither number is negative.\n"
          ]
        }
      ]
    },
    {
      "cell_type": "code",
      "source": [
        "#9. Write a Python program to convert user input from string to integer, float, and boolean types.\n",
        "\n",
        "n = input()\n",
        "\n",
        "# Convert to integer\n",
        "print(int(n))\n",
        "\n",
        "# Convert to float\n",
        "print(float(n))\n",
        "\n",
        "# Convert to bool\n",
        "print(bool(n))\n"
      ],
      "metadata": {
        "colab": {
          "base_uri": "https://localhost:8080/"
        },
        "id": "ULV_vxcQwZ56",
        "outputId": "a0e8277a-fc48-4d9b-8679-bad39c9fcb20"
      },
      "execution_count": 16,
      "outputs": [
        {
          "output_type": "stream",
          "name": "stdout",
          "text": [
            "8\n",
            "8\n",
            "8.0\n",
            "True\n"
          ]
        }
      ]
    },
    {
      "cell_type": "code",
      "source": [
        "#10. Write code to demonstrate type casting with list elements\n",
        "\n",
        "\n",
        "str_list = [\"1\", \"2\", \"3\", \"4\"]\n",
        "\n",
        "# Convert to integer\n",
        "int_list = [int(i) for i in str_list]\n",
        "print(int_list)\n",
        "\n",
        "# Convert to float\n",
        "float_list = [float(i) for i in str_list]\n",
        "print(float_list)\n",
        "\n",
        "# Convert to boolean\n",
        "bool_list = [bool(i) for i in str_list]\n",
        "print(bool_list)\n"
      ],
      "metadata": {
        "colab": {
          "base_uri": "https://localhost:8080/"
        },
        "id": "megbiLjUxYcH",
        "outputId": "2052b743-b674-40b4-c012-ebc7a007ddd6"
      },
      "execution_count": 17,
      "outputs": [
        {
          "output_type": "stream",
          "name": "stdout",
          "text": [
            "[1, 2, 3, 4]\n",
            "[1.0, 2.0, 3.0, 4.0]\n",
            "[True, True, True, True]\n"
          ]
        }
      ]
    },
    {
      "cell_type": "code",
      "source": [
        "#11. Write a program that checks if a number is positive, negative, or zero.\n",
        "\n",
        "num = int(input(\"Enter a number: \"))\n",
        "\n",
        "if num > 0:\n",
        "    print(\"The number is positive.\")\n",
        "elif num < 0:\n",
        "    print(\"The number is negative.\")\n",
        "else:\n",
        "    print(\"The number is zero.\")\n"
      ],
      "metadata": {
        "colab": {
          "base_uri": "https://localhost:8080/"
        },
        "id": "v5kAf5HdyhDv",
        "outputId": "da1bb3f5-5f0a-49d0-e412-b04a00d236f2"
      },
      "execution_count": 21,
      "outputs": [
        {
          "output_type": "stream",
          "name": "stdout",
          "text": [
            "Enter a number: 5\n",
            "The number is positive.\n"
          ]
        }
      ]
    },
    {
      "cell_type": "code",
      "source": [
        "#12. Write a for loop to print numbers from 1 to 10.\n",
        "\n",
        "for i in range(1,11):\n",
        "  print(i)"
      ],
      "metadata": {
        "colab": {
          "base_uri": "https://localhost:8080/"
        },
        "id": "Kd48ML04zCQz",
        "outputId": "4f5e42b1-d458-40a9-c032-b099ec143781"
      },
      "execution_count": 23,
      "outputs": [
        {
          "output_type": "stream",
          "name": "stdout",
          "text": [
            "1\n",
            "2\n",
            "3\n",
            "4\n",
            "5\n",
            "6\n",
            "7\n",
            "8\n",
            "9\n",
            "10\n"
          ]
        }
      ]
    },
    {
      "cell_type": "code",
      "source": [
        "#13. Write a Python program to find the sum of all even numbers between 1 and 50.\n",
        "\n",
        "total = 0\n",
        "for i in range(1,51):\n",
        "  if i%2==0:\n",
        "    total+=i\n",
        "print(total)"
      ],
      "metadata": {
        "colab": {
          "base_uri": "https://localhost:8080/"
        },
        "id": "Svx9T-GIzjuf",
        "outputId": "ad556d42-8eda-4203-dcb6-96507099ea3f"
      },
      "execution_count": 25,
      "outputs": [
        {
          "output_type": "stream",
          "name": "stdout",
          "text": [
            "650\n"
          ]
        }
      ]
    },
    {
      "cell_type": "code",
      "source": [
        "#14. Write a program to reverse a string using a while loop.\n",
        "\n",
        "word = input(\"Enter a string: \")\n",
        "reversed_word = \"\"\n",
        "i = len(word) - 1\n",
        "\n",
        "while i >= 0:\n",
        "    reversed_word += text[i]\n",
        "    i -= 1\n",
        "\n",
        "print(reversed_word)\n"
      ],
      "metadata": {
        "colab": {
          "base_uri": "https://localhost:8080/"
        },
        "id": "gPONiopgz1m4",
        "outputId": "7120dacb-deab-4e35-8193-1bce300171b1"
      },
      "execution_count": 28,
      "outputs": [
        {
          "output_type": "stream",
          "name": "stdout",
          "text": [
            "Enter a string: Srihari\n",
            "irahirs\n"
          ]
        }
      ]
    },
    {
      "cell_type": "code",
      "source": [
        "#15. Write a Python program to calculate the factorial of a number provided by the user using a while loop.\n",
        "\n",
        "num = int(input(\"Enter a number: \"))\n",
        "\n",
        "factorial = 1\n",
        "i = 1\n",
        "\n",
        "if num < 0:\n",
        "    print(\"Factorial is not for negative numbers.\")\n",
        "else:\n",
        "    while i <= num:\n",
        "        factorial *= i\n",
        "        i += 1\n",
        "    print(factorial)\n"
      ],
      "metadata": {
        "colab": {
          "base_uri": "https://localhost:8080/"
        },
        "id": "C4kHQbCu0q8y",
        "outputId": "e1c275ee-7170-4c90-c608-942018f028e5"
      },
      "execution_count": 30,
      "outputs": [
        {
          "output_type": "stream",
          "name": "stdout",
          "text": [
            "Enter a number: 3\n",
            "6\n"
          ]
        }
      ]
    }
  ]
}